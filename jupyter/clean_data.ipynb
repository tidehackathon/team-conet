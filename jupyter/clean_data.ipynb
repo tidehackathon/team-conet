{
 "cells": [
  {
   "cell_type": "code",
   "execution_count": 88,
   "metadata": {},
   "outputs": [],
   "source": [
    "import numpy as np\n",
    "import pandas as pd\n",
    "import datetime\n",
    "import functools as ft\n",
    "import json"
   ]
  },
  {
   "cell_type": "code",
   "execution_count": 89,
   "metadata": {},
   "outputs": [
    {
     "name": "stderr",
     "output_type": "stream",
     "text": [
      "<ipython-input-89-904f3b66c965>:2: FutureWarning: The error_bad_lines argument has been deprecated and will be removed in a future version. Use on_bad_lines in the future.\n",
      "\n",
      "\n",
      "  df1 = pd.read_csv('../data/DisInformation-Challenge-Data/twitter/Russia_invade.csv', error_bad_lines=False, engine='python')\n",
      "<ipython-input-89-904f3b66c965>:3: FutureWarning: The error_bad_lines argument has been deprecated and will be removed in a future version. Use on_bad_lines in the future.\n",
      "\n",
      "\n",
      "  df2 = pd.read_csv('../data/DisInformation-Challenge-Data/twitter/Ukraine_nato.csv', error_bad_lines=False, engine='python')\n",
      "<ipython-input-89-904f3b66c965>:4: FutureWarning: The error_bad_lines argument has been deprecated and will be removed in a future version. Use on_bad_lines in the future.\n",
      "\n",
      "\n",
      "  df3 = pd.read_csv('../data/DisInformation-Challenge-Data/twitter/Ukraine_war.csv', error_bad_lines=False, engine='python')\n",
      "<ipython-input-89-904f3b66c965>:5: FutureWarning: The error_bad_lines argument has been deprecated and will be removed in a future version. Use on_bad_lines in the future.\n",
      "\n",
      "\n",
      "  df4 = pd.read_csv('../data/DisInformation-Challenge-Data/twitter/Ukraine_troops.csv', error_bad_lines=False, engine='python')\n",
      "<ipython-input-89-904f3b66c965>:6: FutureWarning: The error_bad_lines argument has been deprecated and will be removed in a future version. Use on_bad_lines in the future.\n",
      "\n",
      "\n",
      "  df5 = pd.read_csv('../data/DisInformation-Challenge-Data/twitter/Ukraine_border.csv', error_bad_lines=False, engine='python')\n",
      "Skipping line 143830: unexpected end of data\n",
      "<ipython-input-89-904f3b66c965>:7: FutureWarning: The error_bad_lines argument has been deprecated and will be removed in a future version. Use on_bad_lines in the future.\n",
      "\n",
      "\n",
      "  df6 = pd.read_csv('../data/DisInformation-Challenge-Data/twitter/Russian_troops.csv', error_bad_lines=False, engine='python')\n",
      "<ipython-input-89-904f3b66c965>:8: FutureWarning: The error_bad_lines argument has been deprecated and will be removed in a future version. Use on_bad_lines in the future.\n",
      "\n",
      "\n",
      "  df7 = pd.read_csv('../data/DisInformation-Challenge-Data/twitter/Russian_border_Ukraine.csv', error_bad_lines=False, engine='python')\n",
      "<ipython-input-89-904f3b66c965>:9: FutureWarning: The error_bad_lines argument has been deprecated and will be removed in a future version. Use on_bad_lines in the future.\n",
      "\n",
      "\n",
      "  df8 = pd.read_csv('../data/DisInformation-Challenge-Data/twitter/StandWithUkraine.csv', error_bad_lines=False, engine='python')\n",
      "Skipping line 140618: unexpected end of data\n"
     ]
    },
    {
     "name": "stdout",
     "output_type": "stream",
     "text": [
      "29800110\n",
      "25317667\n"
     ]
    }
   ],
   "source": [
    "# Create combined twitter dataset\n",
    "df1 = pd.read_csv('../data/DisInformation-Challenge-Data/twitter/Russia_invade.csv', error_bad_lines=False, engine='python')\n",
    "df2 = pd.read_csv('../data/DisInformation-Challenge-Data/twitter/Ukraine_nato.csv', error_bad_lines=False, engine='python')\n",
    "df3 = pd.read_csv('../data/DisInformation-Challenge-Data/twitter/Ukraine_war.csv', error_bad_lines=False, engine='python')\n",
    "df4 = pd.read_csv('../data/DisInformation-Challenge-Data/twitter/Ukraine_troops.csv', error_bad_lines=False, engine='python')\n",
    "df5 = pd.read_csv('../data/DisInformation-Challenge-Data/twitter/Ukraine_border.csv', error_bad_lines=False, engine='python')\n",
    "df6 = pd.read_csv('../data/DisInformation-Challenge-Data/twitter/Russian_troops.csv', error_bad_lines=False, engine='python')\n",
    "df7 = pd.read_csv('../data/DisInformation-Challenge-Data/twitter/Russian_border_Ukraine.csv', error_bad_lines=False, engine='python')\n",
    "df8 = pd.read_csv('../data/DisInformation-Challenge-Data/twitter/StandWithUkraine.csv', error_bad_lines=False, engine='python')\n",
    "#df1 = df1.astype({\"retweetedTweet\": 'int64', \"inReplyToTweetId\": 'int64', \"conversationId\": 'int64'})\n",
    "# df1['date'] = pd.to_datetime(df1['date'])\n",
    "# df2['date'] = pd.to_datetime(df2['date'])\n",
    "# df3['date'] = pd.to_datetime(df3['date'])\n",
    "# df4['date'] = pd.to_datetime(df4['date'])\n",
    "# df5['date'] = pd.to_datetime(df5['date'])\n",
    "# df6['date'] = pd.to_datetime(df6['date'])\n",
    "# df7['date'] = pd.to_datetime(df7['date'])\n",
    "# df8['date'] = pd.to_datetime(df8['date'])\n",
    "dfs = [df1, df2, df3, df4, df5, df6, df7, df8]\n",
    "df = pd.concat(dfs)\n",
    "print(df.size)\n",
    "df.drop_duplicates(subset='id', keep=\"first\", inplace=True)\n",
    "# Convert IDs in floating point format to string\n",
    "# df = df.astype({\"inReplyToTweetId\": 'str', \"conversationId\": 'str'})\n",
    "# convert to date\n",
    "df['date'] = pd.to_datetime(df['date'])\n",
    "\n",
    "print(df.size)\n"
   ]
  },
  {
   "cell_type": "code",
   "execution_count": 90,
   "metadata": {},
   "outputs": [],
   "source": [
    "# Only look for tweets not for comments\n",
    "tweets = df\n",
    "#tweets = df[(df['inReplyToTweetId'].isna()) & (df['id'] == df['conversationId'])]\n",
    "#tweets.drop(columns=['_type', 'renderedContent', 'conversationId', 'inReplyToTweetId'])\n",
    "\n",
    "# Only look at english content\n",
    "tweets_en = tweets[(tweets['lang'] == 'en')]\n",
    "\n",
    "# [Optional] filter for specific time range\n",
    "#df = df[ (df['date'] > '2022-02-01 23:00') & (df['date'] < '2022-03-31') ]\n",
    "\n",
    "# change header column names in csv\n",
    "# df.rename(columns={\"id\":'ID'}, inplace=True, errors=\"raise\")\n",
    "# df.set_index(['id'], inplace=True)\n",
    "\n",
    "tweets_en[['id','url','date','content','user','replyCount','retweetCount','likeCount','quoteCount','lang','source','sourceUrl','sourceLabel','outlinks','tcooutlinks','media','conversationId','inReplyToTweetId','retweetedTweet','quotedTweet','inReplyToUser','mentionedUsers','coordinates','place','hashtags','cashtags','Searh',]].to_csv(\"tweets_en.csv\",index=False)"
   ]
  },
  {
   "cell_type": "markdown",
   "metadata": {},
   "source": []
  },
  {
   "cell_type": "code",
   "execution_count": 91,
   "metadata": {},
   "outputs": [],
   "source": [
    "tweets_en_viral = tweets_en\n",
    "#tweets_en_viral = tweets_en[\n",
    "#    (tweets_en['replyCount'] > 200) \n",
    "#    & (tweets_en['retweetCount'] > 300)\n",
    "#    & (tweets_en['likeCount'] > 500)\n",
    "#    & (tweets_en['quoteCount'] > 300)\n",
    "#    ]\n",
    "#tweets_en_viral = tweets_en_viral[(tweets_en_viral['outlinks'].isna())]\n",
    "#tweets_en_viral = tweets_en_viral[(tweets_en_viral['media'].notna())]\n",
    "tweets_en_viral = tweets_en_viral.sort_values(['replyCount', 'likeCount', 'retweetCount'], ascending= [False, False, False])\n",
    "#tweets_en_viral['userId'] = tweets_en_viral.apply(lambda x: x[\"user\"]['id'], axis = 1)\n",
    "# test = tweets_en_viral['user'].to_json(orient='split')\n",
    "# test2 = json.loads(test)\n",
    "# print(test2[0]['id'])\n",
    "#tweets_en_viral[['id','url','date','content','replyCount','retweetCount','likeCount','quoteCount','lang','source','sourceUrl','sourceLabel','outlinks','tcooutlinks','media','retweetedTweet','quotedTweet','inReplyToUser','mentionedUsers','coordinates','place','hashtags','cashtags','Searh']].to_csv(\"tweets_en_viral.csv\",index=False)\n",
    "tweets_en_viral[['id','url','date','content','replyCount','retweetCount','likeCount','quoteCount']].to_csv(\"tweets_en_sorted.csv\",index=False)\n",
    "#tweets_en_viral[['id','media']].to_csv(\"tweets_en_viral.csv\",index=False)"
   ]
  }
 ],
 "metadata": {
  "kernelspec": {
   "display_name": "Python 3",
   "language": "python",
   "name": "python3"
  },
  "language_info": {
   "codemirror_mode": {
    "name": "ipython",
    "version": 3
   },
   "file_extension": ".py",
   "mimetype": "text/x-python",
   "name": "python",
   "nbconvert_exporter": "python",
   "pygments_lexer": "ipython3",
   "version": "3.9.13"
  },
  "orig_nbformat": 4,
  "vscode": {
   "interpreter": {
    "hash": "521c5bb2745a15efd6bb8efc6d9eb5608715fc2171fe87139db9f070db741bd8"
   }
  }
 },
 "nbformat": 4,
 "nbformat_minor": 2
}
